{
  "metadata": {
    "kernelspec": {
      "name": "python",
      "display_name": "Python (Pyodide)",
      "language": "python"
    },
    "language_info": {
      "codemirror_mode": {
        "name": "python",
        "version": 3
      },
      "file_extension": ".py",
      "mimetype": "text/x-python",
      "name": "python",
      "nbconvert_exporter": "python",
      "pygments_lexer": "ipython3",
      "version": "3.8"
    }
  },
  "nbformat_minor": 4,
  "nbformat": 4,
  "cells": [
    {
      "cell_type": "markdown",
      "source": "'Hi, This is the work done by Leena Sharma as a peer review assignment'",
      "metadata": {}
    },
    {
      "cell_type": "markdown",
      "source": "'The various types of data science languages (list is as follows)'\n1. R Programming\n2. Python\n3. SQL",
      "metadata": {}
    },
    {
      "cell_type": "markdown",
      "source": "'The List of data science libraries include:' \n1. Pandas\n2. NumPy\n3. SciPy\n4. Scikit-learn\n5. TensorFlow\n6. Keras",
      "metadata": {}
    },
    {
      "cell_type": "markdown",
      "source": "'table of data science tools'\n|table of data science tools|\n|---------------------------|\n|Apache Spark|\n|Julia|\n|Jupyter Notebook|\n|PyTorch|\n|Matlab|",
      "metadata": {}
    },
    {
      "cell_type": "markdown",
      "source": "# Arithmetic operations\ncode = compile(\"5 + 6\", \"<string>\", \"eval\")\neval(code)\n# Result: 11",
      "metadata": {}
    },
    {
      "cell_type": "code",
      "source": "(5*3)+4\n# Result: 19",
      "metadata": {
        "trusted": true
      },
      "outputs": [
        {
          "execution_count": 1,
          "output_type": "execute_result",
          "data": {
            "text/plain": "19"
          },
          "metadata": {}
        }
      ],
      "execution_count": 1
    },
    {
      "cell_type": "code",
      "source": "days = 0\nhours = 0\nmins = 0\n\ntime = 400\n#days = time / 1440\nleftover_minutes = time % 1440\nhours = leftover_minutes / 60\n#mins = time - (days*1440) - (hours*60)\nprint(str(days) + \" days, \" + str(hours) + \" hours, \" + str(mins) +  \" mins. \")",
      "metadata": {
        "trusted": true
      },
      "outputs": [
        {
          "name": "stdout",
          "text": "0 days, 6.666666666666667 hours, 0 mins. \n",
          "output_type": "stream"
        }
      ],
      "execution_count": 2
    },
    {
      "cell_type": "markdown",
      "source": "'The objective is to understand jupyter Notebook and the various coding methods in the same with the types of cells also'",
      "metadata": {}
    },
    {
      "cell_type": "markdown",
      "source": "Author Name: Leena Sharma",
      "metadata": {}
    },
    {
      "cell_type": "code",
      "source": "",
      "metadata": {
        "trusted": true
      },
      "outputs": [],
      "execution_count": null
    }
  ]
}